{
 "cells": [
  {
   "cell_type": "code",
   "execution_count": 1,
   "id": "1b1ce0e2",
   "metadata": {},
   "outputs": [],
   "source": [
    "from math import hypot\n",
    "from typing import SupportsFloat\n",
    "\n",
    "class Vector:\n",
    "    \"\"\"A simple 2D vector supporting basic arithmetic operations.\"\"\"\n",
    "\n",
    "    __slots__ = (\"x\", \"y\")  # optional: memory efficiency, prevents typos\n",
    "\n",
    "    def __init__(self, x: float = 0.0, y: float = 0.0) -> None:\n",
    "        self.x = float(x)\n",
    "        self.y = float(y)\n",
    "\n",
    "    def __repr__(self) -> str:\n",
    "        return f\"{self.__class__.__name__}({self.x:.2f}, {self.y:.2f})\"\n",
    "\n",
    "    def __iter__(self):\n",
    "        yield from (self.x, self.y)\n",
    "\n",
    "    def __eq__(self, other: object) -> bool:\n",
    "        if not isinstance(other, Vector):\n",
    "            return NotImplemented\n",
    "        return self.x == other.x and self.y == other.y\n",
    "\n",
    "    def __abs__(self) -> float:\n",
    "        return hypot(self.x, self.y)\n",
    "\n",
    "    def __bool__(self) -> bool:\n",
    "        return bool(self.x or self.y)\n",
    "\n",
    "    def __add__(self, other: Vector) -> Vector:\n",
    "        if not isinstance(other, Vector):\n",
    "            return NotImplemented\n",
    "        return Vector(self.x + other.x, self.y + other.y)\n",
    "\n",
    "    def __sub__(self, other: Vector) -> Vector:\n",
    "        if not isinstance(other, Vector):\n",
    "            return NotImplemented\n",
    "        return Vector(self.x - other.x, self.y - other.y)\n",
    "\n",
    "    def __mul__(self, scalar: SupportsFloat) -> Vector:\n",
    "        return Vector(self.x * float(scalar), self.y * float(scalar))\n",
    "\n",
    "    def __rmul__(self, scalar: SupportsFloat) -> Vector:\n",
    "        # supports scalar * vector as well\n",
    "        return self.__mul__(scalar)\n",
    "\n",
    "    def __truediv__(self, scalar: SupportsFloat) -> Vector:\n",
    "        return Vector(self.x / float(scalar), self.y / float(scalar))\n",
    "\n",
    "    def __neg__(self) -> Vector:\n",
    "        return Vector(-self.x, -self.y)\n",
    "\n",
    "    def __abs__(self) -> float:\n",
    "        return hypot(self.x, self.y)\n",
    "\n",
    "    def normalized(self) -> Vector:\n",
    "        \"\"\"Return a unit vector in the same direction.\"\"\"\n",
    "        magnitude = abs(self)\n",
    "        return Vector(self.x / magnitude, self.y / magnitude) if magnitude else Vector()\n"
   ]
  },
  {
   "cell_type": "code",
   "execution_count": 3,
   "id": "3eff15ed",
   "metadata": {},
   "outputs": [
    {
     "name": "stdout",
     "output_type": "stream",
     "text": [
      "Vector(4.00, 6.00)\n",
      "Vector(6.00, 8.00)\n",
      "Vector(1.50, 2.00)\n",
      "5.0\n",
      "Vector(0.60, 0.80)\n",
      "False\n"
     ]
    }
   ],
   "source": [
    "v1 = Vector(3, 4)\n",
    "v2 = Vector(1, 2)\n",
    "\n",
    "print(v1 + v2)\n",
    "print(2 * v1)\n",
    "print(v1 / 2)\n",
    "print(abs(v1))\n",
    "print(v1.normalized())\n",
    "print(bool(Vector()))"
   ]
  }
 ],
 "metadata": {
  "kernelspec": {
   "display_name": "venv_3.14",
   "language": "python",
   "name": "python3"
  },
  "language_info": {
   "codemirror_mode": {
    "name": "ipython",
    "version": 3
   },
   "file_extension": ".py",
   "mimetype": "text/x-python",
   "name": "python",
   "nbconvert_exporter": "python",
   "pygments_lexer": "ipython3",
   "version": "3.14.0a6"
  }
 },
 "nbformat": 4,
 "nbformat_minor": 5
}
