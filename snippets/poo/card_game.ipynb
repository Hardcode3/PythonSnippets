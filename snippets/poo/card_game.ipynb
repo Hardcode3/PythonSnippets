{
 "cells": [
  {
   "cell_type": "markdown",
   "id": "cd04cdcb",
   "metadata": {},
   "source": [
    "# A Pythonic card game"
   ]
  },
  {
   "cell_type": "code",
   "execution_count": 125,
   "id": "ab01d295",
   "metadata": {},
   "outputs": [],
   "source": [
    "from __future__ import annotations # for forward refs\n",
    "import collections\n",
    "import random\n",
    "from typing import TypeAlias\n",
    "\n",
    "Card: TypeAlias = collections.namedtuple(\"Card\", [\"rank\", \"suit\"])\n",
    "\n",
    "\n",
    "class FrenchDeck:\n",
    "    ranks: list[str] = [str(n) for n in range(2, 11)] + list(\"JQKA\")\n",
    "    suits: list[str] = \"spades diamonds clubs hearts\".split()\n",
    "    suit_values: dict[str, int] = dict(spades=3, hearts=2, diamonds=1, clubs=0)\n",
    "\n",
    "    def __init__(self) -> None:\n",
    "        self._cards: list[Card] = [\n",
    "            Card(rank, suit) for suit in self.suits for rank in self.ranks\n",
    "        ]\n",
    "\n",
    "    def __len__(self) -> int:\n",
    "        return len(self._cards)\n",
    "\n",
    "    def __getitem__(self, pos: int) -> Card:\n",
    "        return self._cards[pos]\n",
    "\n",
    "    def __setitem__(self, pos: int, card: Card) -> None:\n",
    "        self._cards[pos] = card\n",
    "\n",
    "    def draw(self, replace: bool = False) -> Card:\n",
    "        \"\"\"Draw a random card, optionally with replacement.\"\"\"\n",
    "        if not self._cards:\n",
    "            raise ValueError(\"Cannot draw a card: no card left in the deck\")\n",
    "\n",
    "        index = random.randrange(len(self._cards))\n",
    "        return self._cards[index] if replace else self._cards.pop(index)\n",
    "\n",
    "    @staticmethod\n",
    "    def spades_high(card: Card) -> int:\n",
    "        \"\"\"Return a numeric value for sorting cards (spades high).\"\"\"\n",
    "        rank_value = FrenchDeck.ranks.index(card.rank)\n",
    "        return rank_value * len(FrenchDeck.suit_values) + FrenchDeck.suit_values[card.suit]\n"
   ]
  },
  {
   "cell_type": "code",
   "execution_count": 126,
   "id": "ec0d30ad",
   "metadata": {},
   "outputs": [],
   "source": [
    "deck = FrenchDeck()"
   ]
  },
  {
   "cell_type": "code",
   "execution_count": 127,
   "id": "269a98d7",
   "metadata": {},
   "outputs": [
    {
     "data": {
      "text/plain": [
       "52"
      ]
     },
     "execution_count": 127,
     "metadata": {},
     "output_type": "execute_result"
    }
   ],
   "source": [
    "# Get deck's size\n",
    "len(deck)"
   ]
  },
  {
   "cell_type": "code",
   "execution_count": 128,
   "id": "2d66593c",
   "metadata": {},
   "outputs": [
    {
     "name": "stdout",
     "output_type": "stream",
     "text": [
      "Card(rank='Q', suit='spades')\n",
      "Card(rank='K', suit='spades')\n",
      "Card(rank='A', suit='spades')\n",
      "Card(rank='2', suit='diamonds')\n",
      "Card(rank='3', suit='diamonds')\n"
     ]
    }
   ],
   "source": [
    "for card in deck[10:15]:\n",
    "    print(card)"
   ]
  },
  {
   "cell_type": "code",
   "execution_count": 129,
   "id": "872ee4f1",
   "metadata": {},
   "outputs": [
    {
     "name": "stdout",
     "output_type": "stream",
     "text": [
      "Card(rank='3', suit='diamonds')\n",
      "Card(rank='2', suit='diamonds')\n",
      "Card(rank='A', suit='spades')\n",
      "Card(rank='K', suit='spades')\n",
      "Card(rank='Q', suit='spades')\n"
     ]
    }
   ],
   "source": [
    "for card in reversed(deck[10:15]):\n",
    "    print(card)"
   ]
  },
  {
   "cell_type": "code",
   "execution_count": 130,
   "id": "86979823",
   "metadata": {},
   "outputs": [
    {
     "name": "stdout",
     "output_type": "stream",
     "text": [
      "Card(rank='2', suit='diamonds')\n",
      "Card(rank='3', suit='diamonds')\n",
      "Card(rank='Q', suit='spades')\n",
      "Card(rank='K', suit='spades')\n",
      "Card(rank='A', suit='spades')\n"
     ]
    }
   ],
   "source": [
    "for card in sorted(deck[10:15], key=FrenchDeck.spades_high):\n",
    "    print(card)"
   ]
  },
  {
   "cell_type": "code",
   "execution_count": 131,
   "id": "fc1924e8",
   "metadata": {},
   "outputs": [
    {
     "name": "stdout",
     "output_type": "stream",
     "text": [
      "Card(rank='4', suit='hearts')\n",
      "Card(rank='7', suit='spades')\n",
      "Card(rank='8', suit='spades')\n",
      "Card(rank='3', suit='clubs')\n",
      "Card(rank='6', suit='clubs')\n"
     ]
    }
   ],
   "source": [
    "from random import shuffle\n",
    "\n",
    "shuffle(deck)\n",
    "for card in deck[10:15]:\n",
    "    print(card)"
   ]
  },
  {
   "cell_type": "code",
   "execution_count": 132,
   "id": "40658bdf",
   "metadata": {},
   "outputs": [
    {
     "data": {
      "text/plain": [
       "Card(rank='4', suit='clubs')"
      ]
     },
     "execution_count": 132,
     "metadata": {},
     "output_type": "execute_result"
    }
   ],
   "source": [
    "deck[0]"
   ]
  },
  {
   "cell_type": "code",
   "execution_count": 133,
   "id": "06f8371f",
   "metadata": {},
   "outputs": [
    {
     "data": {
      "text/plain": [
       "Card(rank='5', suit='hearts')"
      ]
     },
     "execution_count": 133,
     "metadata": {},
     "output_type": "execute_result"
    }
   ],
   "source": [
    "deck[-1]"
   ]
  },
  {
   "cell_type": "code",
   "execution_count": 134,
   "id": "3548fb33",
   "metadata": {},
   "outputs": [
    {
     "data": {
      "text/plain": [
       "[Card(rank='4', suit='clubs'),\n",
       " Card(rank='10', suit='diamonds'),\n",
       " Card(rank='7', suit='clubs'),\n",
       " Card(rank='A', suit='diamonds'),\n",
       " Card(rank='8', suit='hearts')]"
      ]
     },
     "execution_count": 134,
     "metadata": {},
     "output_type": "execute_result"
    }
   ],
   "source": [
    "deck[0:5]"
   ]
  },
  {
   "cell_type": "code",
   "execution_count": 135,
   "id": "416cc0d7",
   "metadata": {},
   "outputs": [
    {
     "data": {
      "text/plain": [
       "Card(rank='K', suit='diamonds')"
      ]
     },
     "execution_count": 135,
     "metadata": {},
     "output_type": "execute_result"
    }
   ],
   "source": [
    "from random import choice\n",
    "\n",
    "choice(deck)"
   ]
  },
  {
   "cell_type": "code",
   "execution_count": 136,
   "id": "1abd1465",
   "metadata": {},
   "outputs": [
    {
     "data": {
      "text/plain": [
       "True"
      ]
     },
     "execution_count": 136,
     "metadata": {},
     "output_type": "execute_result"
    }
   ],
   "source": [
    "Card('Q', 'hearts') in deck"
   ]
  },
  {
   "cell_type": "code",
   "execution_count": 137,
   "id": "591287f3",
   "metadata": {},
   "outputs": [
    {
     "data": {
      "text/plain": [
       "False"
      ]
     },
     "execution_count": 137,
     "metadata": {},
     "output_type": "execute_result"
    }
   ],
   "source": [
    "Card('Unknown card suit', 'hearts') in deck"
   ]
  }
 ],
 "metadata": {
  "kernelspec": {
   "display_name": "venv_science",
   "language": "python",
   "name": "python3"
  },
  "language_info": {
   "codemirror_mode": {
    "name": "ipython",
    "version": 3
   },
   "file_extension": ".py",
   "mimetype": "text/x-python",
   "name": "python",
   "nbconvert_exporter": "python",
   "pygments_lexer": "ipython3",
   "version": "3.13.2"
  }
 },
 "nbformat": 4,
 "nbformat_minor": 5
}
