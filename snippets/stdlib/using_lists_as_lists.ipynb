{
 "cells": [
  {
   "cell_type": "markdown",
   "id": "7bc18cee-bf89-4c15-a57d-97157f56d5f2",
   "metadata": {},
   "source": [
    "# Using lists as lists\n",
    "\n",
    "- Python documentation on [Data Structures](https://docs.python.org/3/tutorial/datastructures.html)\n"
   ]
  },
  {
   "cell_type": "code",
   "execution_count": 1,
   "id": "e948941c-3774-468e-b176-473154295c8e",
   "metadata": {},
   "outputs": [],
   "source": [
    "fruits = ['orange', 'apple', 'pear', 'banana', 'kiwi', 'apple', 'banana']"
   ]
  },
  {
   "cell_type": "code",
   "execution_count": 2,
   "id": "c04e59e6-7644-4ce2-8cb2-63c84c8489cb",
   "metadata": {},
   "outputs": [
    {
     "data": {
      "text/plain": [
       "2"
      ]
     },
     "execution_count": 2,
     "metadata": {},
     "output_type": "execute_result"
    }
   ],
   "source": [
    "# Count number of occurence for apple\n",
    "fruits.count('apple')"
   ]
  },
  {
   "cell_type": "code",
   "execution_count": 3,
   "id": "e467d6cb-c3fb-4f24-a098-e0b7244950d5",
   "metadata": {},
   "outputs": [
    {
     "data": {
      "text/plain": [
       "(3, 6)"
      ]
     },
     "execution_count": 3,
     "metadata": {},
     "output_type": "execute_result"
    }
   ],
   "source": [
    "# Find index of banana occurences\n",
    "first_banana_index = fruits.index('banana')\n",
    "second_banana_index = fruits.index('banana', first_banana_index + 1)\n",
    "\n",
    "first_banana_index, second_banana_index"
   ]
  },
  {
   "cell_type": "code",
   "execution_count": 4,
   "id": "1751a5e8-a461-4ac0-b94b-561da4a89e34",
   "metadata": {},
   "outputs": [
    {
     "data": {
      "text/plain": [
       "['banana', 'apple', 'kiwi', 'banana', 'pear', 'apple', 'orange']"
      ]
     },
     "execution_count": 4,
     "metadata": {},
     "output_type": "execute_result"
    }
   ],
   "source": [
    "# Reverse the elements of the list in place.\n",
    "fruits.reverse()\n",
    "\n",
    "fruits"
   ]
  },
  {
   "cell_type": "code",
   "execution_count": 5,
   "id": "3df64f86-0cd4-4dc5-82b7-347c01edcea9",
   "metadata": {},
   "outputs": [
    {
     "data": {
      "text/plain": [
       "['banana', 'apple', 'kiwi', 'banana', 'pear', 'apple', 'orange', 'grape']"
      ]
     },
     "execution_count": 5,
     "metadata": {},
     "output_type": "execute_result"
    }
   ],
   "source": [
    "# Add an item at the end of the list\n",
    "fruits.append('grape')\n",
    "\n",
    "fruits"
   ]
  },
  {
   "cell_type": "code",
   "execution_count": 6,
   "id": "801916ac-5093-428d-8050-d750054b73f8",
   "metadata": {},
   "outputs": [
    {
     "data": {
      "text/plain": [
       "['banana',\n",
       " 'candy',\n",
       " 'apple',\n",
       " 'kiwi',\n",
       " 'banana',\n",
       " 'pear',\n",
       " 'apple',\n",
       " 'orange',\n",
       " 'grape']"
      ]
     },
     "execution_count": 6,
     "metadata": {},
     "output_type": "execute_result"
    }
   ],
   "source": [
    "# Inserts an item at a given position (index 1)\n",
    "fruits.insert(1, 'candy')\n",
    "\n",
    "fruits"
   ]
  },
  {
   "cell_type": "code",
   "execution_count": 7,
   "id": "a162677f-5521-4ceb-bf43-a7622c741978",
   "metadata": {},
   "outputs": [
    {
     "data": {
      "text/plain": [
       "['apple',\n",
       " 'apple',\n",
       " 'banana',\n",
       " 'banana',\n",
       " 'candy',\n",
       " 'grape',\n",
       " 'kiwi',\n",
       " 'orange',\n",
       " 'pear']"
      ]
     },
     "execution_count": 7,
     "metadata": {},
     "output_type": "execute_result"
    }
   ],
   "source": [
    "# Sorts fruits (in place) alphabetically in ascending order\n",
    "# only because constitutive strings have an ordering relation\n",
    "fruits.sort()\n",
    "\n",
    "fruits"
   ]
  },
  {
   "cell_type": "code",
   "execution_count": 8,
   "id": "e7a216b6-e7c1-4336-9e1e-7bd105b196ca",
   "metadata": {},
   "outputs": [
    {
     "data": {
      "text/plain": [
       "['pear',\n",
       " 'orange',\n",
       " 'kiwi',\n",
       " 'grape',\n",
       " 'candy',\n",
       " 'banana',\n",
       " 'banana',\n",
       " 'apple',\n",
       " 'apple']"
      ]
     },
     "execution_count": 8,
     "metadata": {},
     "output_type": "execute_result"
    }
   ],
   "source": [
    "# Sorts fruits (in place) alphabetically in descending order\n",
    "# only because constitutive strings have an ordering relation\n",
    "fruits.sort(reverse=True)\n",
    "\n",
    "fruits"
   ]
  },
  {
   "cell_type": "code",
   "execution_count": 9,
   "id": "b1917efc-f59a-46c9-a363-2388eb7f5fa9",
   "metadata": {},
   "outputs": [
    {
     "data": {
      "text/plain": [
       "'apple'"
      ]
     },
     "execution_count": 9,
     "metadata": {},
     "output_type": "execute_result"
    }
   ],
   "source": [
    "# Removes and returns the last element\n",
    "fruits.pop()"
   ]
  },
  {
   "cell_type": "code",
   "execution_count": 10,
   "id": "26022522-631e-452c-b692-2a1dae94f41a",
   "metadata": {},
   "outputs": [
    {
     "data": {
      "text/plain": [
       "'kiwi'"
      ]
     },
     "execution_count": 10,
     "metadata": {},
     "output_type": "execute_result"
    }
   ],
   "source": [
    "# Removes and returns the element at index 2\n",
    "fruits.pop(2)"
   ]
  },
  {
   "cell_type": "code",
   "execution_count": 11,
   "id": "6f304553-6938-4e51-ace0-f7e15060eef4",
   "metadata": {},
   "outputs": [
    {
     "data": {
      "text/plain": [
       "['pear', 'orange', 'candy', 'banana', 'banana', 'apple']"
      ]
     },
     "execution_count": 11,
     "metadata": {},
     "output_type": "execute_result"
    }
   ],
   "source": [
    "# Removes an item using it's value\n",
    "fruits.remove('grape')\n",
    "\n",
    "fruits"
   ]
  },
  {
   "cell_type": "code",
   "execution_count": 15,
   "id": "38b50f80-8954-492b-b13b-ed5d68b08458",
   "metadata": {},
   "outputs": [
    {
     "name": "stdout",
     "output_type": "stream",
     "text": [
      "[1, 66.25, 333, 333, 1234.5]\n",
      "[1, 66.25, 1234.5]\n",
      "[]\n"
     ]
    }
   ],
   "source": [
    "# Removes an item using it's index\n",
    "# Also work with slices of indexes\n",
    "\n",
    "a = [-1, 1, 66.25, 333, 333, 1234.5]\n",
    "\n",
    "del a[0]\n",
    "print(a)\n",
    "\n",
    "del a[2:4]\n",
    "print(a)\n",
    "\n",
    "del a[:]\n",
    "print(a)\n"
   ]
  },
  {
   "cell_type": "code",
   "execution_count": 13,
   "id": "4797eb2c-8986-44fa-8a9f-1e33bc0ef984",
   "metadata": {},
   "outputs": [
    {
     "data": {
      "text/plain": [
       "(['pear', 'orange', 'banana', 'banana', 'apple'],\n",
       " ['pear', 'orange', 'banana', 'banana'],\n",
       " ['pear', 'orange', 'banana', 'banana'])"
      ]
     },
     "execution_count": 13,
     "metadata": {},
     "output_type": "execute_result"
    }
   ],
   "source": [
    "# Shallow copy a list\n",
    "fruits_cpy = fruits.copy() # object shallow copy\n",
    "fruits_assignment = fruits # reference copy\n",
    "fruits.pop()\n",
    "\n",
    "fruits_cpy, fruits_assignment, fruits"
   ]
  },
  {
   "cell_type": "code",
   "execution_count": 14,
   "id": "25ca2263-f730-4c4d-b27f-2a6ea99c79eb",
   "metadata": {},
   "outputs": [
    {
     "data": {
      "text/plain": [
       "[]"
      ]
     },
     "execution_count": 14,
     "metadata": {},
     "output_type": "execute_result"
    }
   ],
   "source": [
    "# Removes all items from the list\n",
    "# Same as del fruits[:]\n",
    "fruits.clear()\n",
    "\n",
    "fruits"
   ]
  }
 ],
 "metadata": {
  "kernelspec": {
   "display_name": "Python 3 (ipykernel)",
   "language": "python",
   "name": "python3"
  },
  "language_info": {
   "codemirror_mode": {
    "name": "ipython",
    "version": 3
   },
   "file_extension": ".py",
   "mimetype": "text/x-python",
   "name": "python",
   "nbconvert_exporter": "python",
   "pygments_lexer": "ipython3",
   "version": "3.13.2"
  }
 },
 "nbformat": 4,
 "nbformat_minor": 5
}
