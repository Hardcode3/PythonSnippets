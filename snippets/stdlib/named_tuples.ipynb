{
 "cells": [
  {
   "cell_type": "markdown",
   "id": "1ef3a1bc",
   "metadata": {},
   "source": [
    "# Named tuples"
   ]
  },
  {
   "cell_type": "code",
   "execution_count": 1,
   "id": "c01b2942",
   "metadata": {},
   "outputs": [
    {
     "data": {
      "text/plain": [
       "City(name='Tokyo', country='Japan', population=40.8, coordinates=(35.4122, 139.413))"
      ]
     },
     "execution_count": 1,
     "metadata": {},
     "output_type": "execute_result"
    }
   ],
   "source": [
    "from collections import namedtuple\n",
    "\n",
    "City = namedtuple(\"City\", \"name country population coordinates\")\n",
    "\n",
    "tokyo = City(\"Tokyo\", \"Japan\", 40.8, (35.4122, 139.4130))\n",
    "\n",
    "tokyo"
   ]
  },
  {
   "cell_type": "code",
   "execution_count": 5,
   "id": "f5220cac",
   "metadata": {},
   "outputs": [
    {
     "data": {
      "text/plain": [
       "(40.8, (35.4122, 139.413))"
      ]
     },
     "execution_count": 5,
     "metadata": {},
     "output_type": "execute_result"
    }
   ],
   "source": [
    "tokyo.population, tokyo.coordinates"
   ]
  },
  {
   "cell_type": "code",
   "execution_count": null,
   "id": "4338dcdf",
   "metadata": {},
   "outputs": [
    {
     "data": {
      "text/plain": [
       "(35.4122, 139.413)"
      ]
     },
     "execution_count": 3,
     "metadata": {},
     "output_type": "execute_result"
    }
   ],
   "source": [
    "tokyo[1]"
   ]
  },
  {
   "cell_type": "code",
   "execution_count": 6,
   "id": "830a3cd5",
   "metadata": {},
   "outputs": [
    {
     "data": {
      "text/plain": [
       "('name', 'country', 'population', 'coordinates')"
      ]
     },
     "execution_count": 6,
     "metadata": {},
     "output_type": "execute_result"
    }
   ],
   "source": [
    "tokyo._fields"
   ]
  },
  {
   "cell_type": "code",
   "execution_count": 10,
   "id": "cc4dafb9",
   "metadata": {},
   "outputs": [
    {
     "data": {
      "text/plain": [
       "City(name='Paris', country='France', population=2.048, coordinates=(48.5124, 2.2107))"
      ]
     },
     "execution_count": 10,
     "metadata": {},
     "output_type": "execute_result"
    }
   ],
   "source": [
    "paris_data = \"Paris\", \"France\", 2.048, (48.5124, 2.2107)\n",
    "paris = City._make(paris_data)\n",
    "\n",
    "paris"
   ]
  },
  {
   "cell_type": "code",
   "execution_count": 11,
   "id": "27e253f4",
   "metadata": {},
   "outputs": [
    {
     "data": {
      "text/plain": [
       "{'name': 'Paris',\n",
       " 'country': 'France',\n",
       " 'population': 2.048,\n",
       " 'coordinates': (48.5124, 2.2107)}"
      ]
     },
     "execution_count": 11,
     "metadata": {},
     "output_type": "execute_result"
    }
   ],
   "source": [
    "paris._asdict()"
   ]
  }
 ],
 "metadata": {
  "kernelspec": {
   "display_name": "venv_3.14",
   "language": "python",
   "name": "python3"
  },
  "language_info": {
   "codemirror_mode": {
    "name": "ipython",
    "version": 3
   },
   "file_extension": ".py",
   "mimetype": "text/x-python",
   "name": "python",
   "nbconvert_exporter": "python",
   "pygments_lexer": "ipython3",
   "version": "3.14.0a6"
  }
 },
 "nbformat": 4,
 "nbformat_minor": 5
}
