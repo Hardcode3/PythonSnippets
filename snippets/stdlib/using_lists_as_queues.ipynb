{
 "cells": [
  {
   "cell_type": "markdown",
   "id": "c50ca6b9-e6f0-4d12-96f5-feb8be463b8e",
   "metadata": {},
   "source": [
    "# Using lists as queues\n",
    "\n",
    "A queue is a **first in / first out** data structure.\n",
    "\n",
    "![](https://upload.wikimedia.org/wikipedia/commons/thumb/5/52/Data_Queue.svg/500px-Data_Queue.svg.png)\n",
    "\n",
    "In python, queues can be implemented using lists, however this is **slow**.\n",
    "\n",
    "Use `collection.deque` instead.\n",
    "\n",
    "- Python documentation on [Data Structures](https://en.wikipedia.org/wiki/Queue_(abstract_data_type))\n",
    "- [Wikipedia - Queue](https://en.wikipedia.org/wiki/Queue_(abstract_data_type))\n"
   ]
  },
  {
   "cell_type": "code",
   "execution_count": 1,
   "id": "6c1fe995-5547-4cd6-a819-dd7ae0a7a2d8",
   "metadata": {},
   "outputs": [],
   "source": [
    "from collections import deque"
   ]
  },
  {
   "cell_type": "code",
   "execution_count": 2,
   "id": "e122c8cd-ec70-412c-a459-d389199237f3",
   "metadata": {},
   "outputs": [
    {
     "data": {
      "text/plain": [
       "deque(['Eric', 'Ramzi', 'Nicolas'])"
      ]
     },
     "execution_count": 2,
     "metadata": {},
     "output_type": "execute_result"
    }
   ],
   "source": [
    "people = [\"Eric\", \"Ramzi\", \"Nicolas\"]\n",
    "queue = deque(people)\n",
    "\n",
    "queue"
   ]
  },
  {
   "cell_type": "code",
   "execution_count": 3,
   "id": "4266a82f-6521-4396-8fb3-834937753dbc",
   "metadata": {},
   "outputs": [
    {
     "data": {
      "text/plain": [
       "deque(['Eric', 'Ramzi', 'Nicolas', 'Terry'])"
      ]
     },
     "execution_count": 3,
     "metadata": {},
     "output_type": "execute_result"
    }
   ],
   "source": [
    "queue.append(\"Terry\")\n",
    "\n",
    "queue"
   ]
  },
  {
   "cell_type": "code",
   "execution_count": 5,
   "id": "9721312d-bc83-4b4f-b80b-d6a683ded0aa",
   "metadata": {},
   "outputs": [
    {
     "data": {
      "text/plain": [
       "deque(['Ramzi', 'Nicolas', 'Terry'])"
      ]
     },
     "execution_count": 5,
     "metadata": {},
     "output_type": "execute_result"
    }
   ],
   "source": [
    "queue.popleft()\n",
    "\n",
    "queue"
   ]
  },
  {
   "cell_type": "code",
   "execution_count": null,
   "id": "9b6538b0-e208-4a45-8964-0d2f962bcbec",
   "metadata": {},
   "outputs": [],
   "source": []
  }
 ],
 "metadata": {
  "kernelspec": {
   "display_name": "Python 3 (ipykernel)",
   "language": "python",
   "name": "python3"
  },
  "language_info": {
   "codemirror_mode": {
    "name": "ipython",
    "version": 3
   },
   "file_extension": ".py",
   "mimetype": "text/x-python",
   "name": "python",
   "nbconvert_exporter": "python",
   "pygments_lexer": "ipython3",
   "version": "3.13.2"
  }
 },
 "nbformat": 4,
 "nbformat_minor": 5
}
