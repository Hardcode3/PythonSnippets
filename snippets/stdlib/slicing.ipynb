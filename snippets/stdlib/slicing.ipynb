{
 "cells": [
  {
   "cell_type": "markdown",
   "id": "f0c40ada",
   "metadata": {},
   "source": [
    "# Slicing sequences\n",
    "\n",
    "Slicing works with any sequence object in Python.\n",
    "\n",
    "It includes lists, tuples, strings...\n",
    "\n",
    "Evaluate a sequence using: `sequence[start:stop:step]`.\n",
    "\n",
    "Under the hood, python calls: `sequence.__getitem__(slice(start, stop, step))`\n",
    "\n",
    "Multidimensional slicing takes multiple slices, as performed in numpy."
   ]
  },
  {
   "cell_type": "code",
   "execution_count": 31,
   "id": "9ebc4318",
   "metadata": {},
   "outputs": [],
   "source": [
    "l = [10, 20, 30, 40, 50]"
   ]
  },
  {
   "cell_type": "code",
   "execution_count": 32,
   "id": "375ce1f7",
   "metadata": {},
   "outputs": [
    {
     "data": {
      "text/plain": [
       "(50, 30)"
      ]
     },
     "execution_count": 32,
     "metadata": {},
     "output_type": "execute_result"
    }
   ],
   "source": [
    "l[-1], l[-3]"
   ]
  },
  {
   "cell_type": "code",
   "execution_count": 33,
   "id": "1da3967d",
   "metadata": {},
   "outputs": [
    {
     "data": {
      "text/plain": [
       "([10, 20], [30, 40, 50])"
      ]
     },
     "execution_count": 33,
     "metadata": {},
     "output_type": "execute_result"
    }
   ],
   "source": [
    "l[:2], l[2:]"
   ]
  },
  {
   "cell_type": "code",
   "execution_count": 34,
   "id": "867aaaf9",
   "metadata": {},
   "outputs": [
    {
     "data": {
      "text/plain": [
       "[10, 40]"
      ]
     },
     "execution_count": 34,
     "metadata": {},
     "output_type": "execute_result"
    }
   ],
   "source": [
    "l[::3]"
   ]
  },
  {
   "cell_type": "code",
   "execution_count": 35,
   "id": "0dc35a73",
   "metadata": {},
   "outputs": [
    {
     "data": {
      "text/plain": [
       "([50, 40, 30, 20, 10], [50, 30, 10])"
      ]
     },
     "execution_count": 35,
     "metadata": {},
     "output_type": "execute_result"
    }
   ],
   "source": [
    "l[::-1], l[::-2]"
   ]
  },
  {
   "cell_type": "code",
   "execution_count": 36,
   "id": "4a0e04c6",
   "metadata": {},
   "outputs": [
    {
     "data": {
      "text/plain": [
       "[20, 40]"
      ]
     },
     "execution_count": 36,
     "metadata": {},
     "output_type": "execute_result"
    }
   ],
   "source": [
    "# start = 1, no stop, step = 2\n",
    "l[1::2]"
   ]
  },
  {
   "cell_type": "code",
   "execution_count": 37,
   "id": "3c3c914d",
   "metadata": {},
   "outputs": [
    {
     "data": {
      "text/plain": [
       "[10, 1, 2, 3, 4, 40, 50]"
      ]
     },
     "execution_count": 37,
     "metadata": {},
     "output_type": "execute_result"
    }
   ],
   "source": [
    "# Assigning with slices\n",
    "l[1:3] = [1, 2, 3, 4]\n",
    "\n",
    "l"
   ]
  },
  {
   "cell_type": "code",
   "execution_count": 38,
   "id": "56b1ffa7",
   "metadata": {},
   "outputs": [
    {
     "data": {
      "text/plain": [
       "[10, 1, 4, 40, 50]"
      ]
     },
     "execution_count": 38,
     "metadata": {},
     "output_type": "execute_result"
    }
   ],
   "source": [
    "# Deleting with slices\n",
    "del l[2:4]\n",
    "\n",
    "l"
   ]
  }
 ],
 "metadata": {
  "kernelspec": {
   "display_name": "venv_3.14",
   "language": "python",
   "name": "python3"
  },
  "language_info": {
   "codemirror_mode": {
    "name": "ipython",
    "version": 3
   },
   "file_extension": ".py",
   "mimetype": "text/x-python",
   "name": "python",
   "nbconvert_exporter": "python",
   "pygments_lexer": "ipython3",
   "version": "3.14.0a6"
  }
 },
 "nbformat": 4,
 "nbformat_minor": 5
}
