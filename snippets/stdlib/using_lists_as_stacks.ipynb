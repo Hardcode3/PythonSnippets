{
 "cells": [
  {
   "cell_type": "markdown",
   "id": "a8510d26-0c0a-42f0-a18d-bbdd58884911",
   "metadata": {},
   "source": [
    "# Using lists as stacks\n",
    "\n",
    "A stack is a **last in / first out** data structure.\n",
    "\n",
    "In python, stacks can be implemented using lists.\n",
    "\n",
    "- Python documentation on [Data Structures](https://docs.python.org/3/tutorial/datastructures.html#using-lists-as-stacks)\n",
    "- [Wikipedia - Stacks](https://en.wikipedia.org/wiki/Stack_(abstract_data_type))\n",
    "\n",
    "Memo:\n",
    "\n",
    "![](https://media.geeksforgeeks.org/wp-content/uploads/20250708173723170760/push232.webp)"
   ]
  },
  {
   "cell_type": "code",
   "execution_count": 9,
   "id": "be8c2b55-be4e-46a8-bf0b-0063091f890e",
   "metadata": {},
   "outputs": [],
   "source": [
    "# This list can behave as a stack\n",
    "stack = [3, 4, 5]"
   ]
  },
  {
   "cell_type": "code",
   "execution_count": 10,
   "id": "89e71d14-42e7-4017-a340-e894098d4288",
   "metadata": {},
   "outputs": [
    {
     "data": {
      "text/plain": [
       "[3, 4, 5, 6]"
      ]
     },
     "execution_count": 10,
     "metadata": {},
     "output_type": "execute_result"
    }
   ],
   "source": [
    "# Append at the top (last in)\n",
    "stack.append(6)\n",
    "\n",
    "stack"
   ]
  },
  {
   "cell_type": "code",
   "execution_count": 11,
   "id": "2a84756a-0864-4c7a-ba91-7d489ef45e34",
   "metadata": {},
   "outputs": [
    {
     "data": {
      "text/plain": [
       "[3, 4, 5]"
      ]
     },
     "execution_count": 11,
     "metadata": {},
     "output_type": "execute_result"
    }
   ],
   "source": [
    "stack.pop() # remove from the top (first out)\n",
    "\n",
    "stack"
   ]
  },
  {
   "cell_type": "code",
   "execution_count": 12,
   "id": "0d177af6-4dbe-47a8-a964-26bb2157365f",
   "metadata": {},
   "outputs": [
    {
     "data": {
      "text/plain": [
       "[3, 4]"
      ]
     },
     "execution_count": 12,
     "metadata": {},
     "output_type": "execute_result"
    }
   ],
   "source": [
    "stack.pop()\n",
    "\n",
    "stack"
   ]
  }
 ],
 "metadata": {
  "kernelspec": {
   "display_name": "venv_3.14",
   "language": "python",
   "name": "python3"
  },
  "language_info": {
   "codemirror_mode": {
    "name": "ipython",
    "version": 3
   },
   "file_extension": ".py",
   "mimetype": "text/x-python",
   "name": "python",
   "nbconvert_exporter": "python",
   "pygments_lexer": "ipython3",
   "version": "3.14.0"
  }
 },
 "nbformat": 4,
 "nbformat_minor": 5
}
