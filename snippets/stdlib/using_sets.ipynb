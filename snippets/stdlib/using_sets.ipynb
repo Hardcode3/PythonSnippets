{
 "cells": [
  {
   "cell_type": "markdown",
   "id": "4b23a348-39cd-4824-b73f-cfe696deaf18",
   "metadata": {},
   "source": [
    "# Using sets\n",
    "\n",
    "A set is an **unordered collection** with **no duplicate elements**.\n",
    "\n",
    "- Python documentation on [Data Structures](https://docs.python.org/3/tutorial/datastructures.html#sets)\n",
    "- [Wikipedia - Set](https://en.wikipedia.org/wiki/Set_(abstract_data_type))"
   ]
  },
  {
   "cell_type": "code",
   "execution_count": 15,
   "id": "2e714781-6455-4619-9fb7-618c6a06af55",
   "metadata": {},
   "outputs": [
    {
     "data": {
      "text/plain": [
       "{'apple', 'banana', 'orange', 'pear'}"
      ]
     },
     "execution_count": 15,
     "metadata": {},
     "output_type": "execute_result"
    }
   ],
   "source": [
    "# Duplicates are removed at instanciation (using {} or set())\n",
    "basket = {'apple', 'orange', 'apple', 'pear', 'orange', 'banana'}\n",
    "# or\n",
    "basket = set({'apple', 'orange', 'apple', 'pear', 'orange', 'banana'})\n",
    "\n",
    "basket"
   ]
  },
  {
   "cell_type": "code",
   "execution_count": 16,
   "id": "c8c67751-f79c-4061-ae61-48596628be7e",
   "metadata": {},
   "outputs": [
    {
     "data": {
      "text/plain": [
       "True"
      ]
     },
     "execution_count": 16,
     "metadata": {},
     "output_type": "execute_result"
    }
   ],
   "source": [
    "# Test membership\n",
    "'orange' in basket"
   ]
  },
  {
   "cell_type": "markdown",
   "id": "4c86a4a2-e5ba-493c-8cfa-bada151bc768",
   "metadata": {},
   "source": [
    "## Operations on sets"
   ]
  },
  {
   "cell_type": "code",
   "execution_count": 19,
   "id": "0b5e13e2-25a0-496f-b571-c2e695929810",
   "metadata": {},
   "outputs": [
    {
     "data": {
      "text/plain": [
       "({'a', 'b', 'c', 'd', 'r'}, {'a', 'c', 'l', 'm', 'z'})"
      ]
     },
     "execution_count": 19,
     "metadata": {},
     "output_type": "execute_result"
    }
   ],
   "source": [
    "a = set('abracadabra')\n",
    "b = set('alacazam')\n",
    "\n",
    "a, b"
   ]
  },
  {
   "cell_type": "code",
   "execution_count": 20,
   "id": "0db43785-e008-4f0f-afaa-61991a1f95bd",
   "metadata": {},
   "outputs": [
    {
     "data": {
      "text/plain": [
       "{'b', 'd', 'r'}"
      ]
     },
     "execution_count": 20,
     "metadata": {},
     "output_type": "execute_result"
    }
   ],
   "source": [
    "# Unique letters in a but not b\n",
    "a - b"
   ]
  },
  {
   "cell_type": "code",
   "execution_count": 21,
   "id": "68fd9e6c-8d1c-492c-bb07-aa1fd734d797",
   "metadata": {},
   "outputs": [
    {
     "data": {
      "text/plain": [
       "{'a', 'b', 'c', 'd', 'l', 'm', 'r', 'z'}"
      ]
     },
     "execution_count": 21,
     "metadata": {},
     "output_type": "execute_result"
    }
   ],
   "source": [
    "# Unique letters in a or b or both\n",
    "a | b"
   ]
  },
  {
   "cell_type": "code",
   "execution_count": 23,
   "id": "b98e21ae-05a0-4d82-9c46-8de6841902cd",
   "metadata": {},
   "outputs": [
    {
     "data": {
      "text/plain": [
       "{'b', 'd', 'l', 'm', 'r', 'z'}"
      ]
     },
     "execution_count": 23,
     "metadata": {},
     "output_type": "execute_result"
    }
   ],
   "source": [
    "# Unique letters in a or b but not both\n",
    "a ^ b"
   ]
  },
  {
   "cell_type": "code",
   "execution_count": 22,
   "id": "ebd77b3b-e6a2-4a2b-8255-3baaf0dd9fda",
   "metadata": {},
   "outputs": [
    {
     "data": {
      "text/plain": [
       "{'a', 'c'}"
      ]
     },
     "execution_count": 22,
     "metadata": {},
     "output_type": "execute_result"
    }
   ],
   "source": [
    "# Unique letters in a and b\n",
    "a & b"
   ]
  },
  {
   "cell_type": "markdown",
   "id": "ac907788-250c-4f4a-82f1-9fcc179b0969",
   "metadata": {},
   "source": [
    "## Sets comprehensions"
   ]
  },
  {
   "cell_type": "code",
   "execution_count": 24,
   "id": "f6cf6403-0732-4f1c-a702-23b7859e53af",
   "metadata": {},
   "outputs": [
    {
     "data": {
      "text/plain": [
       "{'d', 'r'}"
      ]
     },
     "execution_count": 24,
     "metadata": {},
     "output_type": "execute_result"
    }
   ],
   "source": [
    "{x for x in 'abracadabra' if x not in 'abc'}"
   ]
  }
 ],
 "metadata": {
  "kernelspec": {
   "display_name": "Python 3 (ipykernel)",
   "language": "python",
   "name": "python3"
  },
  "language_info": {
   "codemirror_mode": {
    "name": "ipython",
    "version": 3
   },
   "file_extension": ".py",
   "mimetype": "text/x-python",
   "name": "python",
   "nbconvert_exporter": "python",
   "pygments_lexer": "ipython3",
   "version": "3.13.2"
  }
 },
 "nbformat": 4,
 "nbformat_minor": 5
}
