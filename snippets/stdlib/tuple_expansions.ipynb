{
 "cells": [
  {
   "cell_type": "markdown",
   "id": "b69df337",
   "metadata": {},
   "source": [
    "# Tuple expansion"
   ]
  },
  {
   "cell_type": "code",
   "execution_count": 1,
   "id": "1ac8c878",
   "metadata": {},
   "outputs": [
    {
     "data": {
      "text/plain": [
       "(2, 4, (20, 8))"
      ]
     },
     "execution_count": 1,
     "metadata": {},
     "output_type": "execute_result"
    }
   ],
   "source": [
    "t = (20, 8)\n",
    "\n",
    "quotient, remainder = divmod(20, 8)\n",
    "\n",
    "# use a star * to expand tuple's values\n",
    "quotient, remainder = divmod(*t)\n",
    "\n",
    "quotient, remainder, t"
   ]
  },
  {
   "cell_type": "code",
   "execution_count": 2,
   "id": "3ed46704",
   "metadata": {},
   "outputs": [
    {
     "data": {
      "text/plain": [
       "(23.1232, -118.65443, (23.1232, -118.65443))"
      ]
     },
     "execution_count": 2,
     "metadata": {},
     "output_type": "execute_result"
    }
   ],
   "source": [
    "coordinates = (23.1232, -118.65443)\n",
    "\n",
    "latitude, longitude = coordinates\n",
    "\n",
    "latitude, longitude, coordinates"
   ]
  },
  {
   "cell_type": "code",
   "execution_count": 3,
   "id": "e21a1879",
   "metadata": {},
   "outputs": [
    {
     "data": {
      "text/plain": [
       "('/home/me/documents', 'myfile.txt', ('/home/me/documents', 'myfile.txt'))"
      ]
     },
     "execution_count": 3,
     "metadata": {},
     "output_type": "execute_result"
    }
   ],
   "source": [
    "import os\n",
    "\n",
    "file_path = os.path.split(\"/home/me/documents/myfile.txt\")\n",
    "\n",
    "path, fname = file_path\n",
    "\n",
    "path, fname, file_path"
   ]
  },
  {
   "cell_type": "code",
   "execution_count": 4,
   "id": "69d2342a",
   "metadata": {},
   "outputs": [
    {
     "data": {
      "text/plain": [
       "(0, 1, [2, 3, 4])"
      ]
     },
     "execution_count": 4,
     "metadata": {},
     "output_type": "execute_result"
    }
   ],
   "source": [
    "a, b, *rest = range(5)\n",
    "\n",
    "a, b, rest"
   ]
  },
  {
   "cell_type": "code",
   "execution_count": 5,
   "id": "0616958c",
   "metadata": {},
   "outputs": [
    {
     "data": {
      "text/plain": [
       "(0, 1, [2])"
      ]
     },
     "execution_count": 5,
     "metadata": {},
     "output_type": "execute_result"
    }
   ],
   "source": [
    "a, b, *rest = range(3)\n",
    "\n",
    "a, b, rest"
   ]
  },
  {
   "cell_type": "code",
   "execution_count": 6,
   "id": "d36cfae8",
   "metadata": {},
   "outputs": [
    {
     "data": {
      "text/plain": [
       "(0, 1, [])"
      ]
     },
     "execution_count": 6,
     "metadata": {},
     "output_type": "execute_result"
    }
   ],
   "source": [
    "a, b, *rest = range(2)\n",
    "\n",
    "a, b, rest"
   ]
  },
  {
   "cell_type": "code",
   "execution_count": 7,
   "id": "5d4d4587",
   "metadata": {},
   "outputs": [
    {
     "data": {
      "text/plain": [
       "(0, 1, [2, 3], 4, 5)"
      ]
     },
     "execution_count": 7,
     "metadata": {},
     "output_type": "execute_result"
    }
   ],
   "source": [
    "a, b, *inbetween, c, d = range(6)\n",
    "\n",
    "a, b, inbetween, c, d"
   ]
  },
  {
   "cell_type": "code",
   "execution_count": 8,
   "id": "a6e864c2",
   "metadata": {},
   "outputs": [
    {
     "data": {
      "text/plain": [
       "([0, 1], 2, 3, 4)"
      ]
     },
     "execution_count": 8,
     "metadata": {},
     "output_type": "execute_result"
    }
   ],
   "source": [
    "*head, a, b, c = range(5)\n",
    "\n",
    "head, a, b, c"
   ]
  }
 ],
 "metadata": {
  "kernelspec": {
   "display_name": "venv_3.14",
   "language": "python",
   "name": "python3"
  },
  "language_info": {
   "codemirror_mode": {
    "name": "ipython",
    "version": 3
   },
   "file_extension": ".py",
   "mimetype": "text/x-python",
   "name": "python",
   "nbconvert_exporter": "python",
   "pygments_lexer": "ipython3",
   "version": "3.14.0"
  }
 },
 "nbformat": 4,
 "nbformat_minor": 5
}
